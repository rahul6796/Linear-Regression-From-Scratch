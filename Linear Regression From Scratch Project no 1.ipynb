{
 "cells": [
  {
   "cell_type": "markdown",
   "metadata": {},
   "source": [
    "# Linear Regression From Scratch"
   ]
  },
  {
   "cell_type": "markdown",
   "metadata": {},
   "source": [
    "# content"
   ]
  },
  {
   "cell_type": "markdown",
   "metadata": {},
   "source": [
    "1. Linear Regression Model.\n",
    "2. Linear Regression Loss Function.\n",
    "3. From Where This Loss Function Come From.\n",
    "4. Gradient Descent Algorithm.\n",
    "5. Optimization Of Loss Function.\n",
    "6. Overfitting and Underfitting.\n",
    "7. Regularization.\n",
    "\n",
    "    7.a Lasso L1 regularization.\n",
    "    7.b Ridge L2 regularization."
   ]
  },
  {
   "cell_type": "markdown",
   "metadata": {},
   "source": [
    "# 1. Linear Regression Model"
   ]
  },
  {
   "cell_type": "markdown",
   "metadata": {},
   "source": [
    "\\begin{equation}\n",
    "y={\\beta}_0 + {\\beta}_1x_1\n",
    "\\end{equation}"
   ]
  },
  {
   "cell_type": "markdown",
   "metadata": {},
   "source": [
    "where as x1 is independent variable and y is dependent or response variable and ${\\beta}_0$ and ${\\beta}_1$ is intercept and slop."
   ]
  },
  {
   "cell_type": "markdown",
   "metadata": {},
   "source": [
    "we can also be written the linear model."
   ]
  },
  {
   "cell_type": "markdown",
   "metadata": {},
   "source": [
    "\\begin{equation}\n",
    "y={\\beta}_0 + {\\beta}^{T}X\n",
    "\\end{equation}"
   ]
  },
  {
   "cell_type": "markdown",
   "metadata": {},
   "source": [
    "where ${\\beta}^{T}$ is the matrics of the parameter of size ${[}{\\beta}_1{....}{\\beta}_N{]}$ and ${X}$ is your features vectors ${[}{x1}{......}{x}_N{]}$"
   ]
  },
  {
   "cell_type": "markdown",
   "metadata": {},
   "source": [
    "let's some pratical visualization of how our linear model look's like."
   ]
  },
  {
   "cell_type": "code",
   "execution_count": 30,
   "metadata": {},
   "outputs": [],
   "source": [
    "import numpy as np\n",
    "import matplotlib.pyplot as plt"
   ]
  },
  {
   "cell_type": "code",
   "execution_count": 31,
   "metadata": {},
   "outputs": [],
   "source": [
    "x1 = np.random.uniform(low=0,high=4,size=100)\n",
    "\n",
    "beta_0 = 2\n",
    "\n",
    "beta_1 = 5"
   ]
  },
  {
   "cell_type": "code",
   "execution_count": 32,
   "metadata": {},
   "outputs": [],
   "source": [
    "y= beta_0 + beta_1*x1"
   ]
  },
  {
   "cell_type": "code",
   "execution_count": 33,
   "metadata": {},
   "outputs": [
    {
     "data": {
      "text/plain": [
       "<matplotlib.collections.PathCollection at 0x7ff8837bc470>"
      ]
     },
     "execution_count": 33,
     "metadata": {},
     "output_type": "execute_result"
    },
    {
     "data": {
      "image/png": "[encoded data removed]",
      "text/plain": [
       "<Figure size 432x288 with 1 Axes>"
      ]
     },
     "metadata": {
      "needs_background": "light"
     },
     "output_type": "display_data"
    }
   ],
   "source": [
    "plt.scatter(x1,y)"
   ]
  },
  {
   "cell_type": "markdown",
   "metadata": {},
   "source": [
    "Above visualization in not present in our real-life problems. in our real-life problems having some noise.\n",
    "\n",
    "And due to presence of noise we cannot find out the true relationship between independent variable ${x}_1$ and response variable ${y}$"
   ]
  },
  {
   "cell_type": "markdown",
   "metadata": {},
   "source": [
    "let's see the practical intuition behind the noise."
   ]
  },
  {
   "cell_type": "code",
   "execution_count": 43,
   "metadata": {},
   "outputs": [],
   "source": [
    "x1 = np.random.uniform(low=0,high=5,size=100)\n",
    "\n",
    "beta_0 = 2\n",
    "\n",
    "beta_1 = 5\n",
    "\n",
    "epsilon = np.random.normal(loc=0.0,scale=7,size=100)"
   ]
  },
  {
   "cell_type": "code",
   "execution_count": 44,
   "metadata": {},
   "outputs": [],
   "source": [
    "y = beta_0 + beta_1 * x1 + epsilon"
   ]
  },
  {
   "cell_type": "code",
   "execution_count": 45,
   "metadata": {},
   "outputs": [
    {
     "data": {
      "image/png": "[encoded data removed]",
      "text/plain": [
       "<Figure size 432x288 with 1 Axes>"
      ]
     },
     "metadata": {
      "needs_background": "light"
     },
     "output_type": "display_data"
    }
   ],
   "source": [
    "plt.scatter(x1,y)\n",
    "plt.show()"
   ]
  },
  {
   "cell_type": "markdown",
   "metadata": {},
   "source": [
    "you can see Above graph after adding the noise there is problem to identify that what is our true function.$y$ = ${\\beta}_0$ $+$ ${\\beta}_1x_1$"
   ]
  },
  {
   "cell_type": "markdown",
   "metadata": {},
   "source": [
    "What we are doing here we are Approximate the independent variable ${x}_1$ and response variable ${y}$ by using the function. ${y}$ = $\\hat{f}{(\\beta)}$ + ${\\epsilon}$"
   ]
  },
  {
   "cell_type": "markdown",
   "metadata": {},
   "source": [
    "Now our Approximate function $\\hat{f}{(\\beta)}$ is."
   ]
  },
  {
   "cell_type": "markdown",
   "metadata": {},
   "source": [
    "\\begin{equation}\n",
    "\\hat{f}{(\\beta)} = \\hat{\\beta}_0 + \\hat{\\beta}_1x_1\n",
    "\\end{equation}"
   ]
  },
  {
   "cell_type": "markdown",
   "metadata": {},
   "source": [
    "# 2. Linear Regression Loss Function"
   ]
  },
  {
   "cell_type": "markdown",
   "metadata": {},
   "source": [
    "Our loss function in linearn regression is look like."
   ]
  },
  {
   "cell_type": "markdown",
   "metadata": {},
   "source": [
    "\\begin{equation}\n",
    "L{(\\beta)} = \\frac{1}{2}\\sum_{i=1}^N(y_i - \\hat{y})^2\n",
    "\\end{equation}"
   ]
  },
  {
   "cell_type": "markdown",
   "metadata": {},
   "source": [
    "# 3. From Where This Loss Function Come From."
   ]
  },
  {
   "cell_type": "markdown",
   "metadata": {},
   "source": [
    "In this this section we will give a set of probabilistic assumption,under which least-squares regression is derived as a very natural algorithm."
   ]
  },
  {
   "cell_type": "markdown",
   "metadata": {},
   "source": [
    "let's us assume that the response variables and the inputs are related via the equation. "
   ]
  },
  {
   "cell_type": "markdown",
   "metadata": {},
   "source": [
    "we are considering the whole training data $N$."
   ]
  },
  {
   "cell_type": "markdown",
   "metadata": {},
   "source": [
    "\\begin{equation}\n",
    "{y}_i=\\hat{f}{(\\beta)} + {\\epsilon}_i\n",
    "\\end{equation}"
   ]
  },
  {
   "cell_type": "markdown",
   "metadata": {},
   "source": [
    "where ${\\epsilon}_i$ is random noise"
   ]
  },
  {
   "cell_type": "markdown",
   "metadata": {},
   "source": [
    "let's further assume that the ${\\epsilon}_i$ are distributed IID(Independently and Identically distributed),according to a Gaussian distribution(also called the Normal distribution) with zero mean and some variance ${\\sigma}^2$."
   ]
  },
  {
   "cell_type": "markdown",
   "metadata": {},
   "source": [
    "We can write the assumption as ${\\epsilon}_i$$\\sim$$\\mathcal{N}(0,{\\sigma}^2)$"
   ]
  },
  {
   "cell_type": "markdown",
   "metadata": {},
   "source": [
    "so we can write the probability density function of that noise term.${\\epsilon}$"
   ]
  },
  {
   "cell_type": "markdown",
   "metadata": {},
   "source": [
    "\\begin{equation}\n",
    "{p}{(\\epsilon_i)} = \\frac{1}{\\sqrt{2}{\\pi}{\\sigma}}e^{(-{\\frac{(\\epsilon_i)^2}{2\\sigma})}}\n",
    "\\end{equation}"
   ]
  },
  {
   "cell_type": "markdown",
   "metadata": {},
   "source": [
    "this implies that."
   ]
  },
  {
   "cell_type": "markdown",
   "metadata": {},
   "source": [
    "\\begin{equation}\n",
    "{p}{(y_i|x_i;{\\beta})} = \\frac{1}{\\sqrt{2}{\\pi}{\\sigma}}e^{(-\\frac{({y}_i-\\hat{f}{(\\beta})^2}{2\\sigma^2})}\n",
    "\\end{equation}"
   ]
  },
  {
   "cell_type": "markdown",
   "metadata": {},
   "source": [
    "this notaion $\"$$p{({y}_i|{x}_i;{\\beta})}$$\"$ indicates that this is the distribution of ${y}_i$ given ${x}_i$ and\n",
    "and parameterized by ${\\beta}$. Note that we should not condition on ${\\beta}$  $(p{({y}_i|{x}_i;{\\beta})})$, since ${\\beta}$ is not a random variable. we can also write the distribution of ${y}_i$ as ${y}_i|{x}_i$; ${\\beta}$$\\sim$$\\mathcal{N}({\\beta}^T{x}_i,{\\sigma})$."
   ]
  },
  {
   "cell_type": "markdown",
   "metadata": {},
   "source": [
    "Given $X$ (the design matrix which conatins all the ${x}_i$'s) and ${\\beta}$ what is the distribution of the ${y}_i$'s ?. The probability of the data is given by $p{(y|X;{\\beta})}$."
   ]
  },
  {
   "cell_type": "markdown",
   "metadata": {},
   "source": [
    "now we are going to construct the likelihood function of above distribution."
   ]
  },
  {
   "cell_type": "markdown",
   "metadata": {},
   "source": [
    "\\begin{equation}\n",
    "L{(\\beta)} = L{(\\beta;X,y)} = p{(y|X;{\\beta})}\n",
    "\\end{equation}"
   ]
  },
  {
   "cell_type": "markdown",
   "metadata": {},
   "source": [
    "Note that by the independence assumption on the ${\\epsilon}_i$'s and hence also the ${y}_i$ given the ${x}_i$."
   ]
  },
  {
   "cell_type": "markdown",
   "metadata": {},
   "source": [
    "so our likelihood probability is look's like."
   ]
  },
  {
   "cell_type": "markdown",
   "metadata": {},
   "source": [
    "\\begin{equation}\n",
    "L({\\beta}) = p({y}_1|{x}_1)p({y}_2|{x}_2)p({y}_3)|{x}_3).....................p({y}_N|{x}_N)\n",
    "\\end{equation}"
   ]
  },
  {
   "cell_type": "markdown",
   "metadata": {},
   "source": [
    "so we can also write as"
   ]
  },
  {
   "cell_type": "markdown",
   "metadata": {},
   "source": [
    "\\begin{equation}\n",
    "L(\\beta) = \\prod_{i=1}^Np({y}_i|{x}_i;{\\beta})\n",
    "\\end{equation}"
   ]
  },
  {
   "cell_type": "markdown",
   "metadata": {},
   "source": [
    "\\begin{equation}\n",
    "L{(\\beta)}=\\frac{1}{\\sqrt{2}{\\pi}{\\sigma}}e^{(-\\frac{({y}_i - \\hat{f}{(\\beta)})^2}{2\\sigma^2})}\n",
    "\\end{equation}"
   ]
  },
  {
   "cell_type": "markdown",
   "metadata": {},
   "source": [
    "Now given this probabilistic model relating the ${y}_i$'s and the ${x}_i$'s, what is a reasonable way of choosing our best guess of the parameters ${\\beta}$ ?"
   ]
  },
  {
   "cell_type": "markdown",
   "metadata": {},
   "source": [
    "The principal of \"Maximum likelihood\" says that we should choose ${\\beta}$ so as to make the data as high probability as possible. we should choose ${\\beta}$ to maximize $L{(\\beta)}$"
   ]
  },
  {
   "cell_type": "markdown",
   "metadata": {},
   "source": [
    "Instead of maximizing $L{(\\beta)}$ we can also maximize any strictly increasing function of $L{(\\beta)}$. In particular, the derivation will be a bit simple if we instead maximize the log likelihood $l{(\\beta)}$"
   ]
  },
  {
   "cell_type": "markdown",
   "metadata": {},
   "source": [
    "we represent log likelihood function to $l{(\\beta)}$"
   ]
  },
  {
   "cell_type": "markdown",
   "metadata": {},
   "source": [
    "\\begin{equation}\n",
    "{l}{(\\beta)} = \\log{L{(\\beta)}}\n",
    "\\end{equation}"
   ]
  },
  {
   "cell_type": "markdown",
   "metadata": {},
   "source": [
    "\\begin{equation}\n",
    "{l}{(\\beta)} = \\log\\prod_{i=1}^N\\frac{1}{\\sqrt{2}{\\pi}{\\sigma}}e^{(-\\frac{({y}_i - \\hat{f}{(\\beta)})^2}{2\\sigma^2})}\n",
    "\\end{equation}"
   ]
  },
  {
   "cell_type": "markdown",
   "metadata": {},
   "source": [
    "\\begin{equation}\n",
    "{l}{(\\beta)} = \\sum_{i=1}^N\\log\\frac{1}{\\sqrt{2}{\\pi}{\\sigma}}e^{(-\\frac{({y}_i - \\hat{f}{(\\beta)})^2}{2\\sigma^2})}\n",
    "\\end{equation}"
   ]
  },
  {
   "cell_type": "markdown",
   "metadata": {},
   "source": [
    "\\begin{equation}\n",
    "{l}{(\\beta)} = N\\log\\frac{1}{\\sqrt{2}{\\pi}{\\sigma}} - \\frac{1}{\\sigma^2}{.}\\frac{1}{2}\\sum_{i=1}^N({y}_i-\\hat{f}{(\\beta)})^2\n",
    "\\end{equation}"
   ]
  },
  {
   "cell_type": "markdown",
   "metadata": {},
   "source": [
    "now taking negative of log likelihood function ${l}{(\\beta)}$"
   ]
  },
  {
   "cell_type": "markdown",
   "metadata": {},
   "source": [
    "\\begin{equation}\n",
    "{l}{(\\beta)} = -\\log{L}{(\\beta)}\n",
    "\\end{equation}"
   ]
  },
  {
   "cell_type": "markdown",
   "metadata": {},
   "source": [
    "\\begin{equation}\n",
    " {l}{(\\beta)} =  - N\\log\\frac{1}{\\sqrt{2}{\\pi}{\\sigma}}  + \\frac{1}{\\sigma^2}{.}\\frac{1}{2}\\sum_{i=1}^N({y}_i-\\hat{f}{(\\beta)})^2\n",
    "\\end{equation}"
   ]
  },
  {
   "cell_type": "markdown",
   "metadata": {},
   "source": [
    "hence, instead of maximizing log likelihood function ${l}{(\\beta)}$ we minimizing the result of neg log likelihood function which are look's like."
   ]
  },
  {
   "cell_type": "markdown",
   "metadata": {},
   "source": [
    "\\begin{equation}\n",
    "\\frac{1}{2}\\sum_{i=1}^N({y}_i - \\hat{f}{(\\beta)})^2\n",
    "\\end{equation}"
   ]
  },
  {
   "cell_type": "markdown",
   "metadata": {},
   "source": [
    "which we recognize to be $L{(\\beta)}$ ,our original least-squares loss function."
   ]
  },
  {
   "cell_type": "markdown",
   "metadata": {},
   "source": [
    "Note also that, in our previous discussion , our final choice of ${\\beta}$ did not depend on what was ${\\sigma^2}$"
   ]
  },
  {
   "cell_type": "markdown",
   "metadata": {},
   "source": [
    "# 5. Gradient Descent Algorithm."
   ]
  },
  {
   "cell_type": "markdown",
   "metadata": {},
   "source": [
    "We want to choose ${\\beta}$ so as minimize our loss function $L{(\\beta)}$. to do so,let's use a search algorithm that starts with some initial gusess for ${\\beta}$ ,and that repeatedly changes ${\\beta}$ to make $L{(\\beta)}$ smaller. until hopefully we converge to a value of ${\\beta}$ that minimizes $L{(\\beta)}$. Specifically ,let's consider the \"Gradient Descent Algorithm\", which starts with some initial ${\\beta}$, and repeatedly performs the update."
   ]
  },
  {
   "cell_type": "markdown",
   "metadata": {},
   "source": [
    "Gradient Descent Algorithm look like."
   ]
  },
  {
   "cell_type": "markdown",
   "metadata": {},
   "source": [
    "\\begin{equation}\n",
    "{\\beta}_0 = {\\beta}_0 - {\\alpha}\\frac{\\partial}{\\partial {\\beta}_0}{L}{(\\beta)}\n",
    "\\end{equation}"
   ]
  },
  {
   "cell_type": "markdown",
   "metadata": {},
   "source": [
    "\\begin{equation}\n",
    "{\\beta}_i = {\\beta}_i - {\\alpha}\\frac{\\partial}{\\partial {\\beta}_i}{L}{(\\beta)}\n",
    "\\end{equation}"
   ]
  },
  {
   "cell_type": "markdown",
   "metadata": {},
   "source": [
    "# 5. Optimization Of Loss Function."
   ]
  },
  {
   "cell_type": "markdown",
   "metadata": {},
   "source": [
    "In order to implement this gradient descent algorithm , we have to work out what is the partial derivative term on right hand side. Let's first work it out for the case of if we have only on tarining example (x,y) so that we can neglect the sum in the definiation of ${L}{(\\beta)}$. We have"
   ]
  },
  {
   "cell_type": "markdown",
   "metadata": {},
   "source": [
    "let's find out the ${L}{(\\beta)}$ w.r.t    ${\\beta}_0$   and also   ${L}{(\\beta)}$   w.r.t    ${\\beta}_i$"
   ]
  },
  {
   "cell_type": "markdown",
   "metadata": {},
   "source": [
    "first we calculate $L{(\\beta)}$ w.r.t ${\\beta}_0$"
   ]
  },
  {
   "cell_type": "markdown",
   "metadata": {},
   "source": [
    "\\begin{equation}\n",
    "\\frac{\\partial}{\\partial {\\beta}_0}{L}{(\\beta)} = \\frac{\\partial}{\\partial {\\beta}_0}\\frac{1}{2}({y} - ({\\hat{\\beta}_0 + \\hat{\\beta}_i}{x}_i))^2\n",
    "\\end{equation}"
   ]
  },
  {
   "cell_type": "markdown",
   "metadata": {},
   "source": [
    "\\begin{equation}\n",
    "\\frac{\\partial}{\\partial{\\beta}_0}{L}{(\\beta)}=\\frac{2}{2}(y - (\\hat{\\beta}_0 + \\hat{\\beta}_i{x}_i)){.}\\frac{\\partial}{\\partial {\\beta}_0}(y - (\\hat{\\beta}_0 + \\hat{\\beta}_i{x}_i )\n",
    "\\end{equation}"
   ]
  },
  {
   "cell_type": "markdown",
   "metadata": {},
   "source": [
    "\\begin{equation}\n",
    "\\frac{\\partial}{\\partial{\\beta}_0}{L}{(\\beta)}=(y - (\\hat{\\beta}_0 + \\hat{\\beta}_i{x}_i))(-\\hat{\\beta}_0)\n",
    "\\end{equation}"
   ]
  },
  {
   "cell_type": "markdown",
   "metadata": {},
   "source": [
    "same for we calculate $L{(\\beta)}$ w.r.t ${\\beta}_i$"
   ]
  },
  {
   "cell_type": "markdown",
   "metadata": {},
   "source": [
    "\\begin{equation}\n",
    "\\frac{\\partial}{\\partial {\\beta}_i}{L}{(\\beta)} = \\frac{\\partial}{\\partial {\\beta}_i}\\frac{1}{2}(y - (\\hat{\\beta}_0 + \\hat{\\beta}_i{x}_i))^2\n",
    "\\end{equation}"
   ]
  },
  {
   "cell_type": "markdown",
   "metadata": {},
   "source": [
    "\\begin{equation}\n",
    "\\frac{\\partial}{\\partial {\\beta}_i}{L}{(\\beta)} = \\frac{2}{2}(y - (\\hat{\\beta}_0 + \\hat{\\beta}_i{x}_i))\\frac{\\partial}{\\partial {\\beta}_i}(y - (\\hat{\\beta}_0 + \\hat{\\beta}_i{x}_i))\n",
    "\\end{equation}"
   ]
  },
  {
   "cell_type": "markdown",
   "metadata": {},
   "source": [
    "\\begin{equation}\n",
    "\\frac{\\partial}{\\partial {\\beta}_i}{L}{(\\beta)} = (y - (\\hat{\\beta}_0 + \\hat{\\beta}_i{x}_i))(-{x}_i)\n",
    "\\end{equation}"
   ]
  },
  {
   "cell_type": "markdown",
   "metadata": {},
   "source": [
    "here , ${\\alpha}$ is called the learning rate. this is a very natural algorithm that repeatedly takes a step in the direction of steepest decrease of loss function ${L}{(\\beta)}$"
   ]
  },
  {
   "cell_type": "markdown",
   "metadata": {},
   "source": [
    "For a single training example, this gives the update rule:"
   ]
  },
  {
   "cell_type": "markdown",
   "metadata": {},
   "source": [
    "\\begin{equation}\n",
    "{\\beta}_0 = {\\beta}_0  + {\\alpha}(y - (\\hat{\\beta}_0 + \\hat{\\beta}_i{x}_i))(\\hat{\\beta}_0)\n",
    "\\end{equation}"
   ]
  },
  {
   "cell_type": "markdown",
   "metadata": {},
   "source": [
    "\\begin{equation}\n",
    "{\\beta}_i  = {\\beta}_i + {\\alpha}(y - (\\hat{\\beta}_0 + \\hat{\\beta}_i{x}_i))({x}_i)\n",
    "\\end{equation}"
   ]
  },
  {
   "cell_type": "markdown",
   "metadata": {},
   "source": [
    "The rule is called the LMS update rule(LMS stands for \"least mean squares\"). This rule has several properties that seem natual and intuitive. For instance the magnitude of the update is proportional to error term (${y}_i$ - $\\hat{f}{(\\beta})$); thus for instance if we are encountering a training example on which our prediction nearly matches the actual values of ${y}_i$, then we find that there is little need to change the parameters in contrast ,a large change to the parameters will be made if our prediction $\\hat{f}{(\\beta)}$ has large error (i.e. ,if it very far from ${y}_i$)."
   ]
  },
  {
   "cell_type": "markdown",
   "metadata": {},
   "source": [
    "# 6. Overfitting and Underfitting."
   ]
  },
  {
   "cell_type": "markdown",
   "metadata": {},
   "source": [
    "Assume you are given a well fitted machine learning model $\\hat{f}$ that you want to apply on some test dataset. For instances, the model could be a linear regression whose parameters were computed using some training set different from your test set. For each point x in your test set you want to predict the associated target ${y}$  and compute the mean squared error."
   ]
  },
  {
   "cell_type": "markdown",
   "metadata": {},
   "source": [
    "You now realize that this MSE is too high and try to find an explanation to this result."
   ]
  },
  {
   "cell_type": "markdown",
   "metadata": {},
   "source": [
    " -> Overfitting:"
   ]
  },
  {
   "cell_type": "markdown",
   "metadata": {},
   "source": [
    "The model is too closely related to the example in the training set and doesn't generalize well to other example.\n",
    "that means our model performance on training set is $100$% but when we goes for testing set then that performance is not good."
   ]
  },
  {
   "cell_type": "markdown",
   "metadata": {},
   "source": [
    "-> Underfitting: "
   ]
  },
  {
   "cell_type": "markdown",
   "metadata": {},
   "source": [
    "The model didn't gather enough information from the training set and doesn't capture the link between the features ${x}$ and target ${y}$."
   ]
  },
  {
   "cell_type": "markdown",
   "metadata": {},
   "source": [
    "that means the MSE on training set is high and MSE on testing set is also high."
   ]
  },
  {
   "cell_type": "markdown",
   "metadata": {},
   "source": [
    "# let's talk about the detail math's behind this overfitting and underfitting."
   ]
  },
  {
   "cell_type": "markdown",
   "metadata": {},
   "source": [
    "we are taking the small example of which is marks of students which is $X$ = $[x1,x2.........xN]$ features vector and corresponding salary of students which is Y = $[y1,y2...........yN]$ target vectors. where $N$ is your examples"
   ]
  },
  {
   "cell_type": "markdown",
   "metadata": {},
   "source": [
    "let's suppose that N = 10000 example and we divided into two part 8000 training set and 2000 test set."
   ]
  },
  {
   "cell_type": "markdown",
   "metadata": {},
   "source": [
    "now what we are doing we assume that 8000 training examples is a population kinds of data."
   ]
  },
  {
   "cell_type": "markdown",
   "metadata": {},
   "source": [
    "And we are performing Bootstrap sampling over 8000 training examples."
   ]
  },
  {
   "cell_type": "markdown",
   "metadata": {},
   "source": [
    "Bootstrap sampling is technique in which we are taking sample with replacement."
   ]
  },
  {
   "cell_type": "markdown",
   "metadata": {},
   "source": [
    "and our sample size is all training examples that is 8000."
   ]
  },
  {
   "cell_type": "markdown",
   "metadata": {},
   "source": [
    "now we are taking 100 bootstrap sample from our tarining examples , that is $[s1,s2.............s100]$"
   ]
  },
  {
   "cell_type": "markdown",
   "metadata": {},
   "source": [
    "let's an example from testing set and through this single example we are finding predicted answer which is $[\\hat{y}_1,\\hat{y}_2...............\\hat{y}_{100}]$ which can represent $\\hat{y}$. and this is your random variables of predicted salary."
   ]
  },
  {
   "cell_type": "markdown",
   "metadata": {},
   "source": [
    "Now let's calculate the MSE of testing data on a single example."
   ]
  },
  {
   "cell_type": "markdown",
   "metadata": {},
   "source": [
    "\\begin{equation}\n",
    "{MSE}_{test} = E[(y - \\hat{y})^2]\n",
    "\\end{equation}"
   ]
  },
  {
   "cell_type": "markdown",
   "metadata": {},
   "source": [
    "we know that\n",
    "\\begin{equation}\n",
    "y = f{(\\beta)} + {\\epsilon}\n",
    "\\end{equation}"
   ]
  },
  {
   "cell_type": "markdown",
   "metadata": {},
   "source": [
    "\\begin{equation}\n",
    "=   E[({f}{(\\beta)} + {\\epsilon} -  \\hat{y})^2 ]\n",
    "\\end{equation}"
   ]
  },
  {
   "cell_type": "markdown",
   "metadata": {},
   "source": [
    "\\begin{equation}\n",
    "=  E[({(\\epsilon)} + ({f{(\\beta)} - \\hat{y}))^2}]\n",
    "\\end{equation}"
   ]
  },
  {
   "cell_type": "markdown",
   "metadata": {},
   "source": [
    "\\begin{equation}\n",
    "= E[{(\\epsilon)^2} + (f{(\\beta)}- \\hat{y})^2  + 2{(\\epsilon)}(f{(\\beta)} - \\hat{y})]\n",
    "\\end{equation}"
   ]
  },
  {
   "cell_type": "markdown",
   "metadata": {},
   "source": [
    "\\begin{equation}\n",
    "= E[{(\\epsilon)^2}] + E[(f{(\\beta)} - \\hat{y})^2] + E[2{(\\epsilon)(f{(\\beta)} - \\hat{y})}]\n",
    "\\end{equation}"
   ]
  },
  {
   "cell_type": "markdown",
   "metadata": {},
   "source": [
    "\\begin{equation}\n",
    "= E[{(\\epsilon)^2}] + E[(f{(\\beta)} - \\hat{y})^2] + 2E[{(\\epsilon)}]E[(f{(\\beta)} - \\hat{y})]\n",
    "\\end{equation}"
   ]
  },
  {
   "cell_type": "markdown",
   "metadata": {},
   "source": [
    "so now above expression ${(\\epsilon)}$ and sample through which we find $\\hat{y}$ which is random variables of $[\\hat{y}_1,\\hat{y}_2...............\\hat{y}_{100}]$"
   ]
  },
  {
   "cell_type": "markdown",
   "metadata": {},
   "source": [
    "we can say $E[{(\\epsilon)}]$ = $0$ so this whole quantity $2$$E[{(\\epsilon)}]E[(f{(\\beta)} - \\hat{y})]$ become equal to $0$"
   ]
  },
  {
   "cell_type": "markdown",
   "metadata": {},
   "source": [
    "let's further proceed."
   ]
  },
  {
   "cell_type": "markdown",
   "metadata": {},
   "source": [
    "\\begin{equation}\n",
    "= E[{(\\epsilon)^2}] + E[(f{(\\beta)} - \\hat{y})^2]\n",
    "\\end{equation}"
   ]
  },
  {
   "cell_type": "markdown",
   "metadata": {},
   "source": [
    "\\begin{equation}\n",
    "= E[{(\\epsilon)^2}] + E[(f{(\\beta)} - E[\\hat{y}] + E[\\hat{y}] - \\hat{y})^2]\n",
    "\\end{equation}"
   ]
  },
  {
   "cell_type": "markdown",
   "metadata": {},
   "source": [
    "\\begin{equation}\n",
    "= E[{(\\epsilon)^2}] + E[(f{(\\beta)} - E[\\hat{y}])^2+E[(E[\\hat{y}]-\\hat{y})^2]+2E[(f{(\\beta)}- E[\\hat{y}])(E[\\hat{y}] - \\hat{y})]]\n",
    "\\end{equation}"
   ]
  },
  {
   "cell_type": "markdown",
   "metadata": {},
   "source": [
    "\\begin{equation}\n",
    "= E[{(\\epsilon)^2}] + E[(f{(\\beta)}- E[\\hat{y}])^2] + E[(E[\\hat{y}] - \\hat{y})^2] + 2E[f{(\\beta)}E[\\hat{y}] - f{(\\beta)}\\hat{y} - E[\\hat{y}]E[\\hat{y}] +\\hat{y}E[\\hat{y}]]\n",
    "\\end{equation}"
   ]
  },
  {
   "cell_type": "markdown",
   "metadata": {},
   "source": [
    "\\begin{equation}\n",
    "= E[{(\\epsilon)^2}] + E[(f{(\\beta)}- E[\\hat{y}])^2] + E[(E[\\hat{y}] - \\hat{y})^2] + 2[f{(\\beta)}E[\\hat{y}] - f{(\\beta)}E[\\hat{y}] - E[\\hat{y}]E[\\hat{y}] +E[\\hat{y}]E[\\hat{y}]]\n",
    "\\end{equation}"
   ]
  },
  {
   "cell_type": "markdown",
   "metadata": {},
   "source": [
    "\\begin{equation}\n",
    "= E[{(\\epsilon)^2}] + E[(f{(\\beta)}- E[\\hat{y}])^2] + E[(E[\\hat{y}] - \\hat{y})^2] + 2[f{(\\beta)}E[\\hat{y}] - f{(\\beta)}E[\\hat{y}] - (E[\\hat{y}])^2 + (E[\\hat{y}])^2]\n",
    "\\end{equation}"
   ]
  },
  {
   "cell_type": "markdown",
   "metadata": {},
   "source": [
    "due to some statistics assumption that term become equal to zero. \n",
    "\\begin{equation}\n",
    "2[f{(\\beta)}E[\\hat{y}] - f{(\\beta)}E[\\hat{y}] - E[\\hat{y}]E[\\hat{y}] +E[\\hat{y}]E[\\hat{y}]] = 0\n",
    "\\end{equation}"
   ]
  },
  {
   "cell_type": "markdown",
   "metadata": {},
   "source": [
    "so now"
   ]
  },
  {
   "cell_type": "markdown",
   "metadata": {},
   "source": [
    "\\begin{equation}\n",
    "{MSE}_{test}= E[{(\\epsilon)^2}] + E[(f{(\\beta)}- E[\\hat{y}])^2] + E[(E[\\hat{y}] - \\hat{y})^2]\n",
    "\\end{equation}"
   ]
  },
  {
   "cell_type": "markdown",
   "metadata": {},
   "source": [
    "let's solve this three terms."
   ]
  },
  {
   "cell_type": "markdown",
   "metadata": {},
   "source": [
    "we are going to explain this term\n",
    "\\begin{equation}\n",
    "E[(f{(\\beta)}- E[\\hat{y}])^2]\n",
    "\\end{equation}"
   ]
  },
  {
   "cell_type": "markdown",
   "metadata": {},
   "source": [
    "first we explain this term $E[\\hat{y}]$ what is this."
   ]
  },
  {
   "cell_type": "markdown",
   "metadata": {},
   "source": [
    "we know that $\\hat{y}$ is your random variables of $100$ sample of predicted answer, and we taking the average of this $100$ sample of predicted answer which is represented as $E[\\hat{y}]$."
   ]
  },
  {
   "cell_type": "markdown",
   "metadata": {},
   "source": [
    "we can also write as.\n",
    "\n",
    "\\begin{equation}\n",
    "E[\\hat{y}] = \\frac{\\hat{f}_1{(\\beta)} + \\hat{f}_2{(\\beta)} + \\hat{f}_3{(\\beta)}+ ..................+ \\hat{f}_{100}{(\\beta)}}{100}\n",
    "\\end{equation}"
   ]
  },
  {
   "cell_type": "markdown",
   "metadata": {},
   "source": [
    "\\begin{equation}\n",
    "E[\\hat{y}] = \\frac{(\\hat{\\beta}_0^1 +\\hat{\\beta}_1^1{x}) + (\\hat{\\beta}_0^2 + \\hat{\\beta}_1^2{x}) + (\\hat{\\beta}_0^2 + \\hat{\\beta}_1^3{x}) .....................+(\\hat{\\beta}_0^{100} + \\hat{\\beta}_1^{100}{x})}{100}\n",
    "\\end{equation}"
   ]
  },
  {
   "cell_type": "markdown",
   "metadata": {},
   "source": [
    "\\begin{equation}\n",
    "E[\\hat{y}] = \\frac{(\\hat{\\beta}_0^1 + \\hat{\\beta}_0^2 + \\hat{\\beta}_0^3 + ..................+ \\hat{\\beta}_0^{100})}{100} + \\frac{(\\hat{\\beta}_1^1 + \\hat{\\beta}_1^2 + \\hat{\\beta}_1^3 + ................+ \\hat{\\beta}_1^{100}){x}}{100}\n",
    "\\end{equation}"
   ]
  },
  {
   "cell_type": "markdown",
   "metadata": {},
   "source": [
    "so above expression after solve this we get $E[\\hat{\\beta}_0]$ and $E[\\hat{\\beta}_1]$ is the best estimates, because we know the given samples. if plot this we get some guassian distribution over this samples.  and mean of this gaussian distribution is the MVUE(minimum variance and unbias estimates)."
   ]
  },
  {
   "cell_type": "markdown",
   "metadata": {},
   "source": [
    "so our final expression of above equation is.\n",
    "\\begin{equation}\n",
    "E[\\hat{y}] = E[\\hat{\\beta}_0] + E[\\hat{\\beta}_1]{x}\n",
    "\\end{equation}"
   ]
  },
  {
   "cell_type": "markdown",
   "metadata": {},
   "source": [
    "so in this term $E[(f{(\\beta)}-E[\\hat{y}])]$, $E[\\hat{y}]$ is our predicted answer and $f{(\\beta)}$ is the our true answer and there difference is represent the MVUE(minimum variance and unbias estimates) and this term we called (Bias). "
   ]
  },
  {
   "cell_type": "markdown",
   "metadata": {},
   "source": [
    "so now our equation look's like\n",
    "\\begin{equation}\n",
    "{MSE}_{test} = E[(\\epsilon)^2] + E[(bias)^2] + E[(E[\\hat{y}] - \\hat{y})^2]\n",
    "\\end{equation}"
   ]
  },
  {
   "cell_type": "markdown",
   "metadata": {},
   "source": [
    "now we are going to explain this term.\n",
    "\\begin{equation}\n",
    "E[(E[\\hat{y}] - \\hat{y})^2]\n",
    "\\end{equation}"
   ]
  },
  {
   "cell_type": "markdown",
   "metadata": {},
   "source": [
    "we know that the $\\hat{y}$ is random variables of the predicted answer of 100 sample from our tarining set which is $[\\hat{y}_1,\\hat{y}_2,\\hat{y}_3....................\\hat{y}_{100}]$"
   ]
  },
  {
   "cell_type": "markdown",
   "metadata": {},
   "source": [
    "and we also know $E[\\hat{y}]$ is the mean of the whole predicted answer."
   ]
  },
  {
   "cell_type": "markdown",
   "metadata": {},
   "source": [
    "so we can also write as.\n",
    "\\begin{equation}\n",
    "E[(E[\\hat{y}] - \\hat{y})^2] = \\frac{(E[\\hat{y}] - \\hat{y}_1)^2 + (E[\\hat{y}] - \\hat{y}_2)^2 + ..............+ (E[\\hat{y}] - \\hat{y})^2}{100} = variances\n",
    "\\end{equation}"
   ]
  },
  {
   "cell_type": "markdown",
   "metadata": {},
   "source": [
    "now our final result.\n",
    "\\begin{equation}\n",
    "{MSE}_{test} = E[(\\epsilon)^2] + E[(bias)^2]  + variances\n",
    "\\end{equation}"
   ]
  },
  {
   "cell_type": "markdown",
   "metadata": {},
   "source": [
    "we can also write.\n",
    "\\begin{equation}\n",
    "{MSE}_{test} = (\\epsilon)^2  + (bias)^2 + variances\n",
    "\\end{equation}"
   ]
  },
  {
   "cell_type": "markdown",
   "metadata": {},
   "source": [
    "# 7. Regularization."
   ]
  },
  {
   "cell_type": "markdown",
   "metadata": {},
   "source": [
    "Regularization is a way to prevent overfitting."
   ]
  },
  {
   "cell_type": "markdown",
   "metadata": {},
   "source": [
    "this things happen when you used high oder polynomial degree function, that means your data is good prediction on two degree polynomial but fitted more than three degree polynomial function."
   ]
  },
  {
   "cell_type": "markdown",
   "metadata": {},
   "source": [
    "In this regularization we talk two techniques which is given below."
   ]
  },
  {
   "cell_type": "markdown",
   "metadata": {},
   "source": [
    "-> ${L}_1$-regularization $=>$ LASSO regression\n"
   ]
  },
  {
   "cell_type": "markdown",
   "metadata": {},
   "source": [
    "-> ${L}_2$-regularization $=>$ Ridge regression"
   ]
  },
  {
   "cell_type": "markdown",
   "metadata": {},
   "source": [
    "let's first talk about."
   ]
  },
  {
   "cell_type": "markdown",
   "metadata": {},
   "source": [
    "# L2-regularization. "
   ]
  },
  {
   "cell_type": "markdown",
   "metadata": {},
   "source": [
    "Ridge regression shrinks the regression coffcients by imposing a penalty on their size."
   ]
  },
  {
   "cell_type": "markdown",
   "metadata": {},
   "source": [
    "we konw that our loss function in linear regression is."
   ]
  },
  {
   "cell_type": "markdown",
   "metadata": {},
   "source": [
    "\\begin{equation}\n",
    "L{(\\beta)} = \\frac{\\sum_{i=1}^N({y}_i- (\\hat{\\beta}_0  + \\hat{\\beta}_1{x}_i)^2)}{N}\n",
    "\\end{equation}"
   ]
  },
  {
   "cell_type": "markdown",
   "metadata": {},
   "source": [
    "and when you add ${L}_2$ regularization term into loss function of linear regression the our loss function is look's like."
   ]
  },
  {
   "cell_type": "markdown",
   "metadata": {},
   "source": [
    "\\begin{equation}\n",
    "L{(\\beta)} = \\frac{\\sum_{i=1}^N({y}_i - (\\hat{\\beta}_0 + \\hat{\\beta}_1{x}_i + \\hat{\\beta}_2{z}_i))^2}{N} + \\sum_{j=1}^2\\frac{\\lambda}{2}||\\hat{\\beta}||_{2}^2\n",
    "\\end{equation}"
   ]
  },
  {
   "cell_type": "markdown",
   "metadata": {},
   "source": [
    "${\\lambda}$  is regularization parameter."
   ]
  },
  {
   "cell_type": "markdown",
   "metadata": {},
   "source": [
    "now what we are doing, we try to minimize the ridge coefficients such that we minimize our above loss function."
   ]
  },
  {
   "cell_type": "markdown",
   "metadata": {},
   "source": [
    "where ridge parameters $\\hat{\\beta}$ = $[\\hat{\\beta}_{1}^2 + \\hat{\\beta}_{2}^2]$"
   ]
  },
  {
   "cell_type": "markdown",
   "metadata": {},
   "source": [
    "here ${\\lambda}$ $\\geq$ $0$ is complexity parameters that controls the amount of shrinkage. the larger the value of ${\\lambda}$ , the greater the amount of shrinkage. the coeffcients are shrunk toward the zero.  the idea of penalizing by the sum-of-squares of the parameters is also used in neural networks where it is know as (weight decay)."
   ]
  },
  {
   "cell_type": "markdown",
   "metadata": {},
   "source": [
    "let's start...."
   ]
  },
  {
   "cell_type": "markdown",
   "metadata": {},
   "source": [
    "for finding the ridge coefficient we simply take derivative and make the equal to zeros. "
   ]
  },
  {
   "cell_type": "markdown",
   "metadata": {},
   "source": [
    "\\begin{equation}\n",
    "\\frac{\\partial {L}{(\\beta)}}{\\partial {\\beta}_1} = 0\n",
    "\\end{equation}"
   ]
  },
  {
   "cell_type": "markdown",
   "metadata": {},
   "source": [
    "\\begin{equation}\n",
    "\\frac{\\partial {L}{(\\beta)}}{\\partial {\\beta}_2} = 0 \n",
    "\\end{equation}"
   ]
  },
  {
   "cell_type": "markdown",
   "metadata": {},
   "source": [
    "\\begin{equation}\n",
    "\\frac{-2}{N}\\sum_{i=1}^N({y}_i - (\\hat{\\beta}_0 + \\hat{\\beta}_1{x}_i + \\hat{\\beta}_2{z}_i)){x}_i + \\frac{2\\lambda}{2}||\\hat{\\beta}_1||   = 0\n",
    "\\end{equation}"
   ]
  },
  {
   "cell_type": "markdown",
   "metadata": {},
   "source": [
    "\\begin{equation}\n",
    "\\frac{-2}{N}\\sum_{i=1}^N({y}_i - (\\hat{\\beta}_0 + \\hat{\\beta}_1{x}_i + \\hat{\\beta}_2{z}_i)){z}_i + \\frac{2\\lambda}{2}||\\hat{\\beta}_2||    = 0\n",
    "\\end{equation}"
   ]
  },
  {
   "cell_type": "markdown",
   "metadata": {},
   "source": [
    "let's how to write this term in form of matrix.\n",
    "\\begin{equation}\n",
    "-\\sum_{i=1}^N({y}_i - (\\hat{\\beta}_0 + \\hat{\\beta}_1{x}_i + \\hat{\\beta}_2{z}_i))\n",
    "\\end{equation}"
   ]
  },
  {
   "cell_type": "markdown",
   "metadata": {},
   "source": [
    "\\begin{equation}\n",
    "-\\sum_{i=1}^N{y}_i\n",
    "\\end{equation}\n",
    "is equal to..."
   ]
  },
  {
   "cell_type": "markdown",
   "metadata": {},
   "source": [
    "\\begin{bmatrix}\n",
    "{y}_1 \\\\ {y}_2 \\\\ ...... \\\\ ...... \\\\ ...... \\\\ {y}_N\n",
    "\\end{bmatrix}\n",
    "\n",
    "of size"
   ]
  },
  {
   "cell_type": "markdown",
   "metadata": {},
   "source": [
    "\\begin{equation}\n",
    "N\\times 1\n",
    "\\end{equation}"
   ]
  },
  {
   "cell_type": "markdown",
   "metadata": {},
   "source": [
    "\n",
    "\\begin{equation}\n",
    "\\sum_{i=1}^N(\\hat{\\beta}_0 + \\hat{\\beta}_1{x}_i + \\hat{\\beta}_2{z}_i) \n",
    "\\end{equation}"
   ]
  },
  {
   "cell_type": "markdown",
   "metadata": {},
   "source": [
    "equal to"
   ]
  },
  {
   "cell_type": "markdown",
   "metadata": {},
   "source": [
    "\n",
    "\\begin{bmatrix} \n",
    "\\hat{\\beta}_0 + \\hat{\\beta}_1{x}_1 + \\hat{\\beta}_2{z}_1 \\\\ \\hat{\\beta}_0 + \\hat{\\beta}_1{x}_2 + \\hat{\\beta}_2{z}_2\\\\ ......\\\\......\\\\......\\\\ \\hat{\\beta}_0 + \\hat{\\beta}_1{x}_N + \\hat{\\beta}_2{z}_N\n",
    "\\end{bmatrix}"
   ]
  },
  {
   "cell_type": "markdown",
   "metadata": {},
   "source": [
    "size is..."
   ]
  },
  {
   "cell_type": "markdown",
   "metadata": {},
   "source": [
    "\\begin{equation}\n",
    "N\\times 1\n",
    "\\end{equation}"
   ]
  },
  {
   "cell_type": "markdown",
   "metadata": {},
   "source": [
    "above matrix we can also write as ...\n",
    "\\begin{equation}\n",
    "(\\hat{\\beta}_0 + (X\\cdot\\hat{\\beta}))\n",
    "\\end{equation}"
   ]
  },
  {
   "cell_type": "markdown",
   "metadata": {},
   "source": [
    "now explatin this term....\n",
    "\\begin{equation}\n",
    "(X\\cdot\\hat{\\beta})\n",
    "\\end{equation}"
   ]
  },
  {
   "cell_type": "markdown",
   "metadata": {},
   "source": [
    "\\begin{equation}\n",
    "X\n",
    "\\end{equation}\n",
    "equal to ..."
   ]
  },
  {
   "cell_type": "markdown",
   "metadata": {},
   "source": [
    "\\begin{bmatrix} \n",
    "{x}_1 & {z}_1 \\\\ {x}_2 & z{}_2\\\\ ..\\\\ ..\\\\.. \\\\ {x}_N & {z}_N \n",
    "\\end{bmatrix}\n"
   ]
  },
  {
   "cell_type": "markdown",
   "metadata": {},
   "source": [
    "size is....\n",
    "\\begin{equation}\n",
    "N\\times 2\n",
    "\\end{equation}"
   ]
  },
  {
   "cell_type": "markdown",
   "metadata": {},
   "source": [
    "\\begin{equation}\n",
    "\\hat{\\beta}\n",
    "\\end{equation}\n",
    "equal to....."
   ]
  },
  {
   "cell_type": "markdown",
   "metadata": {},
   "source": [
    "\\begin{bmatrix}\n",
    "\\hat{\\beta}_1 & \\hat{\\beta}_2 \\\\ \\hat{\\beta}_2 & \\hat{\\beta}_2 \\\\ .. \\\\ .. \\\\ \\hat{\\beta}_N & \\hat{\\beta}_N\n",
    "\\end{bmatrix}"
   ]
  },
  {
   "cell_type": "markdown",
   "metadata": {},
   "source": [
    "size is....\n",
    "\\begin{equation}\n",
    "N\\times 2\n",
    "\\end{equation}"
   ]
  },
  {
   "cell_type": "markdown",
   "metadata": {},
   "source": [
    "now above equation is in matrix from "
   ]
  },
  {
   "cell_type": "markdown",
   "metadata": {},
   "source": [
    "\\begin{equation}\n",
    "-{X}^T(y - (\\hat{\\beta}_0 + (X\\cdot \\hat{\\beta})))  + {\\lambda}\\hat{\\beta} = 0\n",
    "\\end{equation}"
   ]
  },
  {
   "cell_type": "markdown",
   "metadata": {},
   "source": [
    "In addition notice that the intercept ${\\beta}_0$ has been left out of the penalty term. Penalization of the intercept whould make the procedure depend on the origin chosen for Y. that is, adding a constant c to each of the target ${y}_i$ whould not simply result in a shift to the predictions by same amount c."
   ]
  },
  {
   "cell_type": "markdown",
   "metadata": {},
   "source": [
    "\\begin{equation}\n",
    "-X^T(y-(X\\cdot\\hat{\\beta})) + {\\lambda}\\hat{\\beta} = 0\n",
    "\\end{equation}"
   ]
  },
  {
   "cell_type": "markdown",
   "metadata": {},
   "source": [
    "\\begin{equation}\n",
    "-X^T{y} + X^TX\\hat{\\beta} + {\\lambda}\\hat{\\beta} = 0\n",
    "\\end{equation}"
   ]
  },
  {
   "cell_type": "markdown",
   "metadata": {},
   "source": [
    "so now final expression is that...."
   ]
  },
  {
   "cell_type": "markdown",
   "metadata": {},
   "source": [
    "\\begin{equation}\n",
    "X^TX\\hat{\\beta} + {\\lambda}\\hat{\\beta} = X^T{y}\n",
    "\\end{equation}"
   ]
  },
  {
   "cell_type": "markdown",
   "metadata": {},
   "source": [
    "let's we introduced the Identity matrix of size  ${I}_{2\\times 2}$"
   ]
  },
  {
   "cell_type": "markdown",
   "metadata": {},
   "source": [
    "\\begin{equation}\n",
    "(X^TX + {\\lambda}{I})\\hat{\\beta} = X^T{y}\n",
    "\\end{equation}"
   ]
  },
  {
   "cell_type": "markdown",
   "metadata": {},
   "source": [
    "now rearrange the above equation.."
   ]
  },
  {
   "cell_type": "markdown",
   "metadata": {},
   "source": [
    "\\begin{equation}\n",
    "\\hat{\\beta} = (X^TX + {\\lambda}{I})^{-1}\\cdot {X}^T{y}\n",
    "\\end{equation}\n"
   ]
  },
  {
   "cell_type": "markdown",
   "metadata": {},
   "source": [
    "here we introduced the small amount of SVD concept on our features matrix.... that is rectangular matrix after apply SVD on that matrix we get three things, singular martix  and there corresponding  singular values and transpose of singular matrix...."
   ]
  },
  {
   "cell_type": "markdown",
   "metadata": {},
   "source": [
    "So you can your $X$ matrix is smothing look's like....\n",
    "\\begin{equation}\n",
    "X = U\\cdot{s}\\cdot{V}^T\n",
    "\\end{equation}"
   ]
  },
  {
   "cell_type": "markdown",
   "metadata": {},
   "source": [
    "Here ${U}$ and ${V}$ are $N\\times p$ and $p\\times p$ othogonal matrices with the columns of ${U}$ spanning the column space of ${X}$ and the columns of ${V}$ spanning row space. $s$ is a $p\\times p$ diagonal matrix , with diagonal entries ${s}_1 \\geq{s}_2 \\geq ...............\\geq{s}_p\\geq 0 $ is called the singular values of $X$. id one or more values $s$=$0$ , $X$ is singular. "
   ]
  },
  {
   "cell_type": "markdown",
   "metadata": {},
   "source": [
    "where as ${N}$ is your training examples and ${p}$ is your number of fetures which availabel in training examples."
   ]
  },
  {
   "cell_type": "markdown",
   "metadata": {},
   "source": [
    "lets assume the singular value matrix is $s$"
   ]
  },
  {
   "cell_type": "markdown",
   "metadata": {},
   "source": [
    "now continue....."
   ]
  },
  {
   "cell_type": "markdown",
   "metadata": {},
   "source": [
    "\\begin{equation}\n",
    "\\hat{\\beta} = ((U\\cdot{s}\\cdot{V}^T)^T\\cdot(U\\cdot{s}\\cdot{V}^T) + {\\lambda}{I})^{-1}\\cdot(U\\cdot{s}\\cdot{V}^T)^T{y}\n",
    "\\end{equation}"
   ]
  },
  {
   "cell_type": "markdown",
   "metadata": {},
   "source": [
    "\\begin{equation}\n",
    "\\hat{\\beta} = ((V\\cdot{s}\\cdot{U}^T)\\cdot(U\\cdot{s}\\cdot{V}^T) + {\\lambda}{I})^{-1}\\cdot(U\\cdot{s}\\cdot{V}^T)^T{y}\n",
    "\\end{equation}"
   ]
  },
  {
   "cell_type": "markdown",
   "metadata": {},
   "source": [
    "now we can write ${U}^T\\cdot{U}$ = $I$"
   ]
  },
  {
   "cell_type": "markdown",
   "metadata": {},
   "source": [
    "\\begin{equation}\n",
    "\\hat{\\beta} = ((V\\cdot{s})\\cdot({s}\\cdot{V}^T) +{\\lambda}{I})^{-1}\\cdot(U\\cdot{s}\\cdot{V}^T)^T{y}\n",
    "\\end{equation}"
   ]
  },
  {
   "cell_type": "markdown",
   "metadata": {},
   "source": [
    "\\begin{equation}\n",
    "\\hat{\\beta} = ((V\\cdot{s}^2\\cdot{V}^T) + {\\lambda}{I})^{-1}\\cdot(V\\cdot{s}\\cdot{U}^T){y}\n",
    "\\end{equation}"
   ]
  },
  {
   "cell_type": "markdown",
   "metadata": {},
   "source": [
    "after solving $(V\\cdot{s}^2\\cdot{V}^T)$ = ${s}^2$"
   ]
  },
  {
   "cell_type": "markdown",
   "metadata": {},
   "source": [
    "\\begin{equation}\n",
    "\\hat{\\beta} = ({s}^2 + {\\lambda}{I})^{-1}\\cdot(V\\cdot{s}\\cdot{U}^T){y}\n",
    "\\end{equation}"
   ]
  },
  {
   "cell_type": "markdown",
   "metadata": {},
   "source": [
    "this $\\hat{\\beta}$ is penalized parameters......."
   ]
  },
  {
   "cell_type": "markdown",
   "metadata": {},
   "source": [
    "let's  consider our training data and try to finding the corresponding predicted values."
   ]
  },
  {
   "cell_type": "markdown",
   "metadata": {},
   "source": [
    "\\begin{equation}\n",
    "\\hat{y} = \\hat{\\beta}_0 + X\\cdot\\hat{\\beta}\n",
    "\\end{equation}"
   ]
  },
  {
   "cell_type": "markdown",
   "metadata": {},
   "source": [
    "i konw that on $\\hat{\\beta}_0$ is no penalty..... so simply remove from above equation..... "
   ]
  },
  {
   "cell_type": "markdown",
   "metadata": {},
   "source": [
    "\\begin{equation}\n",
    "\\hat{y} = X\\cdot\\hat{\\beta}\n",
    "\\end{equation}"
   ]
  },
  {
   "cell_type": "markdown",
   "metadata": {},
   "source": [
    "\\begin{equation}\n",
    "\\hat{y}  = X[({s}^2 + {\\lambda}{I})^{-1}\\cdot(V\\cdot{s}\\cdot{U}^T)y]\n",
    "\\end{equation}"
   ]
  },
  {
   "cell_type": "markdown",
   "metadata": {},
   "source": [
    "now we replace $X$ with  $(U\\cdot{s}\\cdot{V}^T)$"
   ]
  },
  {
   "cell_type": "markdown",
   "metadata": {},
   "source": [
    "\\begin{equation}\n",
    "\\hat{y} = (U\\cdot{s}\\cdot{V}^T)[({s}^2 + {\\lambda}{I})^{-1}\\cdot(V\\cdot{s}\\cdot{U}^T)y]\n",
    "\\end{equation}"
   ]
  },
  {
   "cell_type": "markdown",
   "metadata": {},
   "source": [
    "if you solve this trem        ${V}^T({s}^2 + {\\lambda}{I}){V}$ = $({s}^2 + {\\lambda}{I})$"
   ]
  },
  {
   "cell_type": "markdown",
   "metadata": {},
   "source": [
    "\\begin{equation}\n",
    "\\hat{y}  = (U\\cdot{s})[({s}^2 + {\\lambda}{I})^{-1}\\cdot({s}\\cdot{U}^T)y]\n",
    "\\end{equation}"
   ]
  },
  {
   "cell_type": "markdown",
   "metadata": {},
   "source": [
    "\\begin{equation}\n",
    "\\hat{y} = {U}\\frac{({s}^2)}{({s}^2 + {\\lambda}{I})^{-1}}{U}^Ty\n",
    "\\end{equation}"
   ]
  },
  {
   "cell_type": "markdown",
   "metadata": {},
   "source": [
    "for complete testing examples..... our equation of final predicted answers is....."
   ]
  },
  {
   "cell_type": "markdown",
   "metadata": {},
   "source": [
    "here j is your testing examples variable.\n",
    "\\begin{equation}\n",
    "\\hat{y} = \\sum_{j=1}^N({U}_i\\frac{s^2}{({s}^2 + {\\lambda}{I})}{U}_i^T)y\n",
    "\\end{equation}"
   ]
  },
  {
   "cell_type": "markdown",
   "metadata": {},
   "source": [
    "# L1 - regularization."
   ]
  },
  {
   "cell_type": "markdown",
   "metadata": {},
   "source": [
    "this lasso is a shrinkage method like ridge."
   ]
  },
  {
   "cell_type": "markdown",
   "metadata": {},
   "source": [
    "our loss function of linear regression"
   ]
  },
  {
   "cell_type": "markdown",
   "metadata": {},
   "source": [
    "\\begin{equation}\n",
    "L{(\\beta)} = \\frac{\\sum_{i=1}^N({y}_i - (\\hat{\\beta}_0 + \\hat{\\beta}_1{x}_i + \\hat{\\beta}_2{z}_i))^2}{N}\n",
    "\\end{equation}"
   ]
  },
  {
   "cell_type": "markdown",
   "metadata": {},
   "source": [
    "now we add l1-regularization term in this loss function."
   ]
  },
  {
   "cell_type": "markdown",
   "metadata": {},
   "source": [
    "\\begin{equation}\n",
    "L{(\\beta)} = \\frac{\\sum_{i=1}^N({y}_i -(\\hat{\\beta}_0 + \\hat{\\beta}_1{x}_i + \\hat{\\beta}_2{z}_i))^2}{N} + \\sum_{j=1}^2     {\\lambda}||\\hat{\\beta}||\n",
    "\\end{equation}"
   ]
  },
  {
   "cell_type": "markdown",
   "metadata": {},
   "source": [
    "so ${\\lambda}$ is our regularization hyperparameter and we get throw cross validation on training data. usally there values lies between $0$ to $10$."
   ]
  },
  {
   "cell_type": "markdown",
   "metadata": {},
   "source": [
    "Note -----> we are try to constraint our paramerters in regularization in any algorithm, because we are trying to prevent the training error zero. through which er prevent from overfitting...."
   ]
  },
  {
   "cell_type": "markdown",
   "metadata": {},
   "source": [
    "so our loss function look's like...."
   ]
  },
  {
   "cell_type": "markdown",
   "metadata": {},
   "source": [
    "\\begin{equation}\n",
    "\\begin{array}{rrclcl}\n",
    "\\displaystyle \\min_{\\hat{\\beta}_1,\\hat{\\beta}_2} L{\\hat{(\\beta)}}\n",
    "\\end{array}\n",
    "\\end{equation}"
   ]
  },
  {
   "cell_type": "markdown",
   "metadata": {},
   "source": [
    "subject to constraint on $\\hat{\\beta}$ such that \n",
    "\\begin{equation}\n",
    "\\sum_{j=1}^2||\\hat{\\beta}|| \\leq b\n",
    "\\end{equation}"
   ]
  },
  {
   "cell_type": "markdown",
   "metadata": {},
   "source": [
    "\\begin{equation}\n",
    "\\sum_{j=1}^2||\\hat{\\beta}||  - { b}\\leq 0\n",
    "\\end{equation}"
   ]
  },
  {
   "cell_type": "markdown",
   "metadata": {},
   "source": [
    "were b is positive number"
   ]
  },
  {
   "cell_type": "markdown",
   "metadata": {},
   "source": [
    "\\begin{equation}\n",
    "L(\\hat{\\beta_1} ,\\hat{\\beta}_2) = L\\hat{(\\beta)} + {\\lambda}\\sum_{j=1}^2(||\\hat{\\beta}|| - {b})\n",
    "\\end{equation}"
   ]
  },
  {
   "cell_type": "markdown",
   "metadata": {},
   "source": [
    "Note--->> (b) is the bound that which control the freedom of $\\hat{\\beta}$ ,more the values of ${b}$ more the freedom of $\\hat{\\beta}$"
   ]
  },
  {
   "cell_type": "markdown",
   "metadata": {},
   "source": [
    "l1- regularization is also called the Sparse regularization, in regulzrization is penalizing the parameters of the model."
   ]
  },
  {
   "cell_type": "markdown",
   "metadata": {},
   "source": [
    "\\begin{equation}\n",
    "\\hat{f}_i(\\beta) = \\hat{\\beta}_0 +  \\hat{\\beta}_1{x}_i + \\hat{\\beta}_2{z}_i\n",
    "\\end{equation}"
   ]
  },
  {
   "cell_type": "markdown",
   "metadata": {},
   "source": [
    "if $\\hat{\\beta}_1$ = $0$ so taht ${x}_i$ features are not involving the predicting $y$. because its totally peanlized there corresponding features. "
   ]
  },
  {
   "cell_type": "markdown",
   "metadata": {},
   "source": [
    "now our constrianed in l1 regularization  $||\\hat{\\beta}_1 + \\hat{\\beta}_2||$ $\\leq$ ${b}$"
   ]
  },
  {
   "cell_type": "code",
   "execution_count": 12,
   "metadata": {},
   "outputs": [
    {
     "data": {
      "image/png": "[encoded data removed]",
      "text/plain": [
       "<IPython.core.display.Image object>"
      ]
     },
     "execution_count": 12,
     "metadata": {},
     "output_type": "execute_result"
    }
   ],
   "source": [
    "from IPython.display import Image\n",
    "Image(filename='plot_sgd_penalties.png')"
   ]
  },
  {
   "cell_type": "code",
   "execution_count": null,
   "metadata": {},
   "outputs": [],
   "source": []
  }
 ],
 "metadata": {
  "kernelspec": {
   "display_name": "Python 3",
   "language": "python",
   "name": "python3"
  },
  "language_info": {
   "codemirror_mode": {
    "name": "ipython",
    "version": 3
   },
   "file_extension": ".py",
   "mimetype": "text/x-python",
   "name": "python",
   "nbconvert_exporter": "python",
   "pygments_lexer": "ipython3",
   "version": "3.7.3"
  }
 },
 "nbformat": 4,
 "nbformat_minor": 2
}
